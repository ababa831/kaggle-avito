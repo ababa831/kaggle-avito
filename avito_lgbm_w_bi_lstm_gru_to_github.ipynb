{
 "cells": [
  {
   "cell_type": "markdown",
   "metadata": {},
   "source": [
    "# Avito LGBM (wo images)"
   ]
  },
  {
   "cell_type": "markdown",
   "metadata": {},
   "source": [
    "## Install LGBM"
   ]
  },
  {
   "cell_type": "code",
   "execution_count": null,
   "metadata": {},
   "outputs": [],
   "source": [
    "! df"
   ]
  },
  {
   "cell_type": "code",
   "execution_count": null,
   "metadata": {},
   "outputs": [],
   "source": [
    "%bash\n",
    "mkdir /dev/sdb/lgbm\n",
    "pip install lightgbm -t /dev/sdb/lgbm"
   ]
  },
  {
   "cell_type": "code",
   "execution_count": null,
   "metadata": {},
   "outputs": [],
   "source": [
    "!ls /dev/sdb/lgbm/lightgbm"
   ]
  },
  {
   "cell_type": "code",
   "execution_count": null,
   "metadata": {},
   "outputs": [],
   "source": [
    "import sys\n",
    "sys.path.append('/dev/sdb/lgbm/')"
   ]
  },
  {
   "cell_type": "markdown",
   "metadata": {},
   "source": [
    "## Load data"
   ]
  },
  {
   "cell_type": "code",
   "execution_count": null,
   "metadata": {},
   "outputs": [],
   "source": [
    "#import google.datalab.bigquery as bq\n",
    "import pandas as pd"
   ]
  },
  {
   "cell_type": "code",
   "execution_count": null,
   "metadata": {},
   "outputs": [],
   "source": [
    "! gsutil cp gs://kaggle893/avito/sample_submission.csv ./"
   ]
  },
  {
   "cell_type": "markdown",
   "metadata": {},
   "source": [
    "gcsに保存したcsvをローカルにコピーして読み混む"
   ]
  },
  {
   "cell_type": "code",
   "execution_count": null,
   "metadata": {},
   "outputs": [],
   "source": [
    "! gsutil cp gs://kaggle893/avito/feature/_8th_feature_macros*.gz ./\n",
    "! gsutil cp gs://kaggle893/avito/feature/train_test_uq_rate.csv ./\n",
    "! gsutil cp gs://kaggle893/avito/bi_lgbm_gru_4f_seed7/* ./\n",
    "! gsutil cp gs://kaggle893/avito/feature/numel_text.csv ./\n",
    "! gsutil cp gs://kaggle893/avito/feature/text_ftrs.csv ./\n",
    "! gsutil cp gs://kaggle893/avito/feature/ridge_oof.csv ./\n",
    "! gsutil cp gs://kaggle893/avito/feature/stddev_price_image_top_1_000000000000.gz ./\n",
    "! gsutil cp gs://kaggle893/avito/feature/_stddev_week_dow_day_by_user_id.csv ./"
   ]
  },
  {
   "cell_type": "code",
   "execution_count": null,
   "metadata": {},
   "outputs": [],
   "source": [
    "import os\n",
    "\n",
    "path_list = os.listdir(\"./\")\n",
    "train_csvs = [path for path in path_list if \"_8th_feature_macros\" in path]\n",
    "\n",
    "train_test_df = pd.DataFrame()\n",
    "for csv_part in train_csvs:\n",
    "  tmp_df = pd.read_csv(csv_part, dtype={\"param_1\" : object, \"param_2\" : object, \"param_3\" : object})\n",
    "  train_test_df = train_test_df.append(tmp_df)"
   ]
  },
  {
   "cell_type": "code",
   "execution_count": null,
   "metadata": {},
   "outputs": [],
   "source": [
    "train_test_df.head()"
   ]
  },
  {
   "cell_type": "markdown",
   "metadata": {},
   "source": [
    "## Merge src data and oof data"
   ]
  },
  {
   "cell_type": "code",
   "execution_count": null,
   "metadata": {},
   "outputs": [],
   "source": [
    "import numpy as np\n",
    "oof_X_train = np.load(\"bi_lstm_gru_ftext_neo_wiki_cc_oof_X_train_4f_seed7.npy\").reshape(-1,)\n",
    "oof_X_test = pd.read_csv(\"bi_lstm_gru_ftext_neo_wiki_cc_4f_seed7.csv\")\n",
    "oof_item_id_train = pd.read_csv(\"oof_item_id_train.csv\")"
   ]
  },
  {
   "cell_type": "markdown",
   "metadata": {},
   "source": [
    "concatenate item_id and oofs"
   ]
  },
  {
   "cell_type": "code",
   "execution_count": null,
   "metadata": {},
   "outputs": [],
   "source": [
    "oof_item_id_train[\"deal_probability\"] = oof_X_train\n",
    "oof_X_train_test = oof_item_id_train.append(oof_X_test).reset_index()\n",
    "oof_X_train_test = oof_X_train_test.rename(columns={'deal_probability': 'oof'})"
   ]
  },
  {
   "cell_type": "code",
   "execution_count": null,
   "metadata": {},
   "outputs": [],
   "source": [
    "train_test_df = pd.merge(train_test_df, oof_X_train_test[[\"item_id\", \"oof\"]], how='left')\n",
    "train_test_df.head()"
   ]
  },
  {
   "cell_type": "markdown",
   "metadata": {},
   "source": [
    "## Merge src data and unique rate from bi_lstm_gru model"
   ]
  },
  {
   "cell_type": "code",
   "execution_count": null,
   "metadata": {},
   "outputs": [],
   "source": [
    "train_test_uq_rate = pd.read_csv(\"train_test_uq_rate.csv\")"
   ]
  },
  {
   "cell_type": "code",
   "execution_count": null,
   "metadata": {},
   "outputs": [],
   "source": [
    "train_test_df = pd.merge(train_test_df, train_test_uq_rate[[\"item_id\", \"unique_rate\"]], how='left')\n",
    "train_test_df.head()"
   ]
  },
  {
   "cell_type": "markdown",
   "metadata": {},
   "source": [
    "## Merge src data and numelical value from texts"
   ]
  },
  {
   "cell_type": "code",
   "execution_count": null,
   "metadata": {},
   "outputs": [],
   "source": [
    "numel_text = pd.read_csv(\"numel_text.csv\")"
   ]
  },
  {
   "cell_type": "code",
   "execution_count": null,
   "metadata": {},
   "outputs": [],
   "source": [
    "train_test_df = pd.merge(train_test_df, numel_text[list(numel_text.columns)], how='left')\n",
    "train_test_df.head()"
   ]
  },
  {
   "cell_type": "markdown",
   "metadata": {},
   "source": [
    "## Merge src data and text features"
   ]
  },
  {
   "cell_type": "code",
   "execution_count": null,
   "metadata": {},
   "outputs": [],
   "source": [
    "text_ftrs = pd.read_csv(\"text_ftrs.csv\")"
   ]
  },
  {
   "cell_type": "code",
   "execution_count": null,
   "metadata": {},
   "outputs": [],
   "source": [
    "train_test_df = pd.merge(train_test_df, text_ftrs[list(text_ftrs.columns)], how='left')\n",
    "train_test_df.head()"
   ]
  },
  {
   "cell_type": "markdown",
   "metadata": {},
   "source": [
    "## Merge src data and stddev_price_image_top_1 features"
   ]
  },
  {
   "cell_type": "code",
   "execution_count": null,
   "metadata": {},
   "outputs": [],
   "source": [
    "stddev_pr_imt1 = pd.read_csv(\"stddev_price_image_top_1_000000000000.gz\")"
   ]
  },
  {
   "cell_type": "code",
   "execution_count": null,
   "metadata": {},
   "outputs": [],
   "source": [
    "train_test_df = pd.merge(train_test_df, stddev_pr_imt1[list(stddev_pr_imt1.columns)], how='left')\n",
    "train_test_df.head()"
   ]
  },
  {
   "cell_type": "markdown",
   "metadata": {},
   "source": [
    "## Merge src data and stddev_time_by_user_id features"
   ]
  },
  {
   "cell_type": "code",
   "execution_count": null,
   "metadata": {},
   "outputs": [],
   "source": [
    "stddev_time = pd.read_csv(\"_stddev_week_dow_day_by_user_id.csv\")"
   ]
  },
  {
   "cell_type": "code",
   "execution_count": null,
   "metadata": {},
   "outputs": [],
   "source": [
    "train_test_df = pd.merge(train_test_df, stddev_time[list(stddev_time.columns)], how='left')\n",
    "train_test_df.head()"
   ]
  },
  {
   "cell_type": "markdown",
   "metadata": {},
   "source": [
    "## Merge src data and ridge oof"
   ]
  },
  {
   "cell_type": "code",
   "execution_count": null,
   "metadata": {},
   "outputs": [],
   "source": [
    "ridge_oof = pd.read_csv(\"ridge_oof.csv\")"
   ]
  },
  {
   "cell_type": "code",
   "execution_count": null,
   "metadata": {},
   "outputs": [],
   "source": [
    "train_test_df = pd.merge(train_test_df, ridge_oof[[\"item_id\",\"ridge_oof\"]], how='left')\n",
    "train_test_df.head()"
   ]
  },
  {
   "cell_type": "markdown",
   "metadata": {},
   "source": [
    "## Log Transforms"
   ]
  },
  {
   "cell_type": "markdown",
   "metadata": {},
   "source": [
    "Functions"
   ]
  },
  {
   "cell_type": "code",
   "execution_count": null,
   "metadata": {},
   "outputs": [],
   "source": [
    "def log2_transform(df, columns):\n",
    "  for fea in columns:  \n",
    "    df[fea]= np.log2(1 + df[fea].values).astype(int)\n",
    "  return df"
   ]
  },
  {
   "cell_type": "code",
   "execution_count": null,
   "metadata": {},
   "outputs": [],
   "source": [
    "def log10_transform(df, columns):\n",
    "  for fea in columns:  \n",
    "    df[fea]= np.log10(1 + df[fea].values).astype(int)\n",
    "  return df"
   ]
  },
  {
   "cell_type": "markdown",
   "metadata": {},
   "source": [
    "Apply log transformation"
   ]
  },
  {
   "cell_type": "markdown",
   "metadata": {},
   "source": [
    "## Label encoding"
   ]
  },
  {
   "cell_type": "code",
   "execution_count": null,
   "metadata": {},
   "outputs": [],
   "source": [
    "from sklearn import preprocessing\n",
    "le = preprocessing.LabelEncoder()"
   ]
  },
  {
   "cell_type": "code",
   "execution_count": null,
   "metadata": {},
   "outputs": [],
   "source": [
    "#train_test_df[[\"param_1\", \"param_2\", \"param_3\"]] = train_test_df[[\"param_1\", \"param_2\", \"param_3\"]].to_string() # intを無理やり変換すると結果が著しく悪くなるぞ\n",
    "train_test_df[[\"param_1\", \"param_2\", \"param_3\"]] = train_test_df[[\"param_1\", \"param_2\", \"param_3\"]].fillna(\"no_description\")"
   ]
  },
  {
   "cell_type": "code",
   "execution_count": null,
   "metadata": {},
   "outputs": [],
   "source": [
    "train_test_df[[\"user_id\", \"region\", \"city\", \"parent_category_name\", \"category_name\", \"param_1\", \"param_2\", \"param_3\", \"user_type\"]] \\\n",
    "= train_test_df[[\"user_id\", \"region\", \"city\", \"parent_category_name\", \n",
    "                 \"category_name\", \"param_1\", \"param_2\", \"param_3\", \"user_type\"]].apply(le.fit_transform)"
   ]
  },
  {
   "cell_type": "code",
   "execution_count": null,
   "metadata": {},
   "outputs": [],
   "source": [
    "train_test_df.head()"
   ]
  },
  {
   "cell_type": "markdown",
   "metadata": {},
   "source": [
    "### additional_1"
   ]
  },
  {
   "cell_type": "code",
   "execution_count": null,
   "metadata": {},
   "outputs": [],
   "source": [
    "additional_cols = ['category_name_price_image_top_1_minmax_diff',\n",
    "                   'city_category_name_image_top_1_minmax_diff',\n",
    "                   'city_category_name_price_minmax_diff',\n",
    "                   'city_param_1_category_name_minmax_diff',\n",
    "                   'city_param_1_image_top_1_minmax_diff',\n",
    "                   'city_param_1_param_2_minmax_diff',\n",
    "                   'city_param_1_param_3_minmax_diff',\n",
    "                   'city_param_1_price_minmax_diff',\n",
    "                   'city_param_2_category_name_minmax_diff',\n",
    "                   'city_param_2_image_top_1_minmax_diff',\n",
    "                   'city_param_2_param_3_minmax_diff',\n",
    "                   'city_param_2_price_minmax_diff',\n",
    "                   'city_param_3_category_name_minmax_diff',\n",
    "                   'city_param_3_image_top_1_minmax_diff',\n",
    "                   'city_price_image_top_1_minmax_diff',\n",
    "                   'param_1_category_name_image_top_1_minmax_diff',\n",
    "                   'param_1_category_name_price_minmax_diff',\n",
    "                   'param_1_param_2_category_name_minmax_diff',\n",
    "                   'param_1_param_2_image_top_1_minmax_diff',\n",
    "                   'param_1_param_2_param_3_minmax_diff',\n",
    "                   'param_1_param_2_price_minmax_diff',\n",
    "                   'param_1_param_3_category_name_minmax_diff',\n",
    "                   'param_1_param_3_image_top_1_minmax_diff',\n",
    "                   'param_1_param_3_price_minmax_diff',\n",
    "                   'param_1_price_image_top_1_diff',\n",
    "                   'param_2_category_name_image_top_1_minmax_diff',\n",
    "                   'param_2_category_name_price_diff',\n",
    "                   'param_2_param_3_image_top_1_minmax_diff',\n",
    "                   'param_2_param_3_price_minmax_diff',\n",
    "                   'param_2_price_image_top_1_minmax_diff',\n",
    "                   'param_3_category_name_image_top_1_minmax_diff',\n",
    "                   'param_3_category_name_price_minmax_diff',\n",
    "                   'param_3_price_image_top_1_minmax_diff',\n",
    "                   'user_id_category_name_image_top_1_minmax_diff',\n",
    "                   'user_id_category_name_price_minmax_diff',\n",
    "                   'user_id_city_category_name_minmax_diff',\n",
    "                   'user_id_city_image_top_1_minmax_diff',\n",
    "                   'user_id_city_param_1_minmax_diff',\n",
    "                   'user_id_city_param_2_minmax_diff',\n",
    "                   'user_id_city_param_3_minmax_diff',\n",
    "                   'user_id_city_price_minmax_diff',\n",
    "                   'user_id_param_1_category_name_minmax_diff',\n",
    "                   'user_id_param_1_image_top_1_minmax_diff',\n",
    "                   'user_id_param_1_param_2_minmax_diff',\n",
    "                   'user_id_param_1_param_3_minmax_diff',\n",
    "                   'user_id_param_1_price_minmax_diff',\n",
    "                   'user_id_param_2_category_name_minmax_diff',\n",
    "                   'user_id_param_2_image_top_1_minmax_diff',\n",
    "                   'user_id_param_2_param_3_minmax_diff',\n",
    "                   'user_id_param_2_price_minmax_diff',\n",
    "                   'user_id_param_3_category_name_minmax_diff',\n",
    "                   'user_id_param_3_image_top_1_minmax_diff',\n",
    "                   'user_id_param_3_price_minmax_diff',\n",
    "                   'user_id_price_image_top_1_minmax_diff',\n",
    "                   'category_name_price_image_top_1_uq',\n",
    "                   'city_category_name_image_top_1_uq',\n",
    "                   'city_category_name_price_uq',\n",
    "                   'city_param_1_category_name_uq',\n",
    "                   'city_param_1_image_top_1_uq',\n",
    "                   'city_param_1_param_2_uq',\n",
    "                   'city_param_1_param_3_uq',\n",
    "                   'city_param_1_price_uq',\n",
    "                   'city_param_2_category_name_uq',\n",
    "                   'city_param_2_image_top_1_uq',\n",
    "                   'city_param_2_param_3_uq',\n",
    "                   'city_param_2_price_uq',\n",
    "                   'city_param_3_category_name_uq',\n",
    "                   'city_param_3_image_top_1_uq',\n",
    "                   'city_price_image_top_1_uq',\n",
    "                   'param_1_category_name_image_top_1_uq',\n",
    "                   'param_1_category_name_price_uq',\n",
    "                   'param_1_param_2_category_name_uq',\n",
    "                   'param_1_param_2_image_top_1_uq',\n",
    "                   'param_1_param_2_param_3_uq',\n",
    "                   'param_1_param_2_price_uq',\n",
    "                   'param_1_param_3_category_name_uq',\n",
    "                   'param_1_param_3_image_top_1_uq',\n",
    "                   'param_1_param_3_price_uq',\n",
    "                   'param_1_price_image_top_1_uq',\n",
    "                   'param_2_category_name_image_top_1_uq',\n",
    "                   'param_2_category_name_price_uq',\n",
    "                   'param_2_param_3_image_top_1_uq',\n",
    "                   'param_2_param_3_price_uq',\n",
    "                   'param_2_price_image_top_1_uq',\n",
    "                   'param_3_category_name_image_top_1_uq',\n",
    "                   'param_3_category_name_price_uq',\n",
    "                   'param_3_price_image_top_1_uq',\n",
    "                   'user_id_category_name_image_top_1_uq',\n",
    "                   'user_id_category_name_price_uq',\n",
    "                   'user_id_city_category_name_uq',\n",
    "                   'user_id_city_image_top_1_uq',\n",
    "                   'user_id_city_param_1_uq',\n",
    "                   'user_id_city_param_2_uq',\n",
    "                   'user_id_city_param_3_uq',\n",
    "                   'user_id_city_price_uq',\n",
    "                   'user_id_param_1_category_name_uq',\n",
    "                   'user_id_param_1_image_top_1_uq',\n",
    "                   'user_id_param_1_param_2_uq',\n",
    "                   'user_id_param_1_param_3_uq',\n",
    "                   'user_id_param_1_price_uq',\n",
    "                   'user_id_param_2_category_name_uq',\n",
    "                   'user_id_param_2_image_top_1_uq',\n",
    "                   'user_id_param_2_param_3_uq',\n",
    "                   'user_id_param_2_price_uq',\n",
    "                   'user_id_param_3_category_name_uq',\n",
    "                   'user_id_param_3_image_top_1_uq',\n",
    "                   'user_id_param_3_price_uq',\n",
    "                   'user_id_price_image_top_1_uq']"
   ]
  },
  {
   "cell_type": "code",
   "execution_count": null,
   "metadata": {},
   "outputs": [],
   "source": [
    "train_test_df[additional_cols] = train_test_df[additional_cols].fillna(0)"
   ]
  },
  {
   "cell_type": "code",
   "execution_count": null,
   "metadata": {},
   "outputs": [],
   "source": [
    "for idx, col in enumerate(stddev_pr_imt1.columns[1:]):\n",
    "  col_mean = train_test_df[col].mean() \n",
    "  train_test_df[col] = train_test_df[col].fillna(col_mean)\n",
    "  sys.stdout.write(\"\\r {:d} of {:d}\".format(idx+1, len(stddev_pr_imt1.columns[1:])))"
   ]
  },
  {
   "cell_type": "markdown",
   "metadata": {},
   "source": [
    "### additional_2\n",
    "0.0が存在しているせいで-1を埋めている（label encodeするしかないのか？）\n",
    "\n",
    "-1は経験的にスコア悪くすることがわかっているので，0に振るか one_hot_encodingにかえた方がよいかも<br>\n",
    "**Kernelsでは`-999`を充てている**"
   ]
  },
  {
   "cell_type": "code",
   "execution_count": null,
   "metadata": {},
   "outputs": [],
   "source": [
    "train_test_df[\"image_top_1\"] = train_test_df[\"image_top_1\"].fillna(-1)\n",
    "#train_test_df[[\"image_top_1\"]] = train_test_df[[\"image_top_1\"]].apply(le.fit_transform)"
   ]
  },
  {
   "cell_type": "code",
   "execution_count": null,
   "metadata": {},
   "outputs": [],
   "source": [
    "train_test_df.head()"
   ]
  },
  {
   "cell_type": "markdown",
   "metadata": {},
   "source": [
    "## train-test split"
   ]
  },
  {
   "cell_type": "code",
   "execution_count": null,
   "metadata": {},
   "outputs": [],
   "source": [
    "train_df = train_test_df[~train_test_df[\"deal_probability\"].isnull()].reset_index(drop=True)\n",
    "test_df = train_test_df[train_test_df[\"deal_probability\"].isnull()].reset_index(drop=True)"
   ]
  },
  {
   "cell_type": "markdown",
   "metadata": {},
   "source": [
    "## Eliminate specific samples for train_data"
   ]
  },
  {
   "cell_type": "code",
   "execution_count": null,
   "metadata": {},
   "outputs": [],
   "source": [
    "!gsutil cp gs://kaggle893/avito/feature/elim_item_id.csv ./"
   ]
  },
  {
   "cell_type": "code",
   "execution_count": null,
   "metadata": {},
   "outputs": [],
   "source": [
    "elim_item_id = pd.read_csv(\"elim_item_id.csv\")\n",
    "elim_item_id.head()"
   ]
  },
  {
   "cell_type": "code",
   "execution_count": null,
   "metadata": {},
   "outputs": [],
   "source": [
    "import sys\n",
    "elim_idx_list = []\n",
    "for idx, item in enumerate(elim_item_id[\"item_id\"]):\n",
    "  elim_idx = train_df[train_df[\"item_id\"] == item].index\n",
    "  if len(elim_idx) != 0:\n",
    "    elim_idx_list.append(list(elim_idx)[0])\n",
    "  sys.stdout.write(\"\\r {:d}\".format(idx+1))\n",
    "  sys.stdout.flush()\n"
   ]
  },
  {
   "cell_type": "code",
   "execution_count": null,
   "metadata": {},
   "outputs": [],
   "source": [
    "train_df = train_df.drop(train_df.index[elim_idx_list]).reset_index(drop=True)\n",
    "train_df.head()"
   ]
  },
  {
   "cell_type": "markdown",
   "metadata": {},
   "source": [
    "## LGBM settings"
   ]
  },
  {
   "cell_type": "code",
   "execution_count": null,
   "metadata": {},
   "outputs": [],
   "source": [
    "import pandas as pd\n",
    "import time\n",
    "import numpy as np\n",
    "from sklearn.cross_validation import train_test_split\n",
    "import lightgbm as lgb\n",
    "import gc\n",
    "import matplotlib.pyplot as plt\n",
    "import os\n",
    "from sklearn.model_selection import KFold"
   ]
  },
  {
   "cell_type": "code",
   "execution_count": null,
   "metadata": {},
   "outputs": [],
   "source": [
    "def lgb_modelfit(params, dtrain, dvalid, predictors, ytrain, yvalid, objective='regression', metrics='rmse',\n",
    "                 feval=None, early_stopping_rounds=20, num_boost_round=3000, verbose_eval=10, categorical_features=None):\n",
    "    lgb_params = {\n",
    "        'boosting_type': 'gbdt',\n",
    "        'objective': objective,\n",
    "        'metric': metrics,\n",
    "        'learning_rate': 0.2,\n",
    "        #'is_unbalance': 'true',  #because training data is unbalance (replaced with scale_pos_weight)\n",
    "        'num_leaves': 31,  # we should let it be smaller than 2^(max_depth)\n",
    "        'max_depth': -1,  # -1 means no limit\n",
    "        'min_child_samples': 20,  # Minimum number of data need in a child(min_data_in_leaf)\n",
    "        'max_bin': 255,  # Number of bucketed bin for feature values\n",
    "        'subsample': 0.6,  # Subsample ratio of the training instance.\n",
    "        'subsample_freq': 0,  # frequence of subsample, <=0 means no enable\n",
    "        'colsample_bytree': 0.3,  # Subsample ratio of columns when constructing each tree.\n",
    "        'min_child_weight': 5,  # Minimum sum of instance weight(hessian) needed in a child(leaf)\n",
    "        'subsample_for_bin': 200000,  # Number of samples for constructing bin\n",
    "        'min_split_gain': 0,  # lambda_l1, lambda_l2 and min_gain_to_split to regularization\n",
    "        'reg_alpha': 10 ** (-1),  # L1 regularization term on weights; 0\n",
    "        'reg_lambda': 10 ** (-1),  # L2 regularization term on weights: 0\n",
    "        'nthread': 4,\n",
    "        'verbose': 0,\n",
    "        'metric':metrics\n",
    "    }\n",
    "\n",
    "    lgb_params.update(params)\n",
    "\n",
    "    print(\"preparing validation datasets\")\n",
    "\n",
    "    xgtrain = lgb.Dataset(dtrain[predictors].values, label=ytrain,\n",
    "                          feature_name=predictors,\n",
    "                          categorical_feature=categorical_features\n",
    "                          )\n",
    "    xgvalid = lgb.Dataset(dvalid[predictors].values, label=yvalid,\n",
    "                          feature_name=predictors,\n",
    "                          categorical_feature=categorical_features\n",
    "                          )\n",
    "\n",
    "    evals_results = {}\n",
    "\n",
    "    bst1 = lgb.train(lgb_params, \n",
    "                     xgtrain, \n",
    "                     valid_sets=[xgtrain, xgvalid], \n",
    "                     valid_names=['train','valid'], \n",
    "                     evals_result=evals_results, \n",
    "                     num_boost_round=num_boost_round,\n",
    "                     early_stopping_rounds=early_stopping_rounds,\n",
    "                     verbose_eval=10, \n",
    "                     feval=feval)\n",
    "\n",
    "    print(\"\\nModel Report\")\n",
    "    print(\"bst1.best_iteration: \", bst1.best_iteration)\n",
    "    \n",
    "    # generate oof_X_train\n",
    "    oof_X_train = bst1.predict(dvalid[predictors], num_iteration=bst1.best_iteration)\n",
    "\n",
    "    return (bst1, bst1.best_iteration, oof_X_train)\n",
    "\n",
    "def DO(userows, train_df, test_df, sub_df, predictors, categoricals, debug=0, seed=7, fold_num=4, file_path=\"./lgbm_outs/\"):\n",
    "    if not os.path.exists(file_path):\n",
    "        os.makedirs(file_path)\n",
    "    print('loading train data...')\n",
    "    if debug:\n",
    "        print('*** debug parameter set: this is a test run for debugging purposes ***')\n",
    "        train_df = train_df[:userows]\n",
    "    len_train = len(train_df)\n",
    "     \n",
    "    print('predictors', predictors)\n",
    "    print('categoricals', categoricals)\n",
    "    \n",
    "    \n",
    "    # define K-fold cross validation\n",
    "    kfold = KFold(n_splits=fold_num, shuffle=True, random_state=seed)\n",
    "    # Initialize oof_xtrain\n",
    "    oof_X_train = []\n",
    "    # initialize output\n",
    "    sum_output =[]\n",
    "    \n",
    "    \n",
    "    print(\"Training {:d}fold seed{:d}\".format(fold_num, seed))\n",
    "    start_time = time.time()\n",
    "\n",
    "    y_train = train_df[\"deal_probability\"].values\n",
    "    for fold_idx, (train_idx, eval_idx) in enumerate(kfold.split(train_df)):\n",
    "        # Get train-valid splited dataset\n",
    "        val_df = train_df.iloc[eval_idx]\n",
    "        train_df_kf =train_df.iloc[train_idx]\n",
    "        y_train_kf = y_train[train_idx]\n",
    "        y_eval_kf = y_train[eval_idx]\n",
    "\n",
    "        print(\"train size: \", len(train_df_kf))\n",
    "        print(\"valid size: \", len(val_df))\n",
    "        print(\"test size : \", len(test_df))\n",
    "\n",
    "        gc.collect()\n",
    "\n",
    "        params = {\n",
    "            'learning_rate': 0.1,  # 0.016 (本番用)\n",
    "            #'is_unbalance': 'true', # replaced with scale_pos_weight argument\n",
    "            'num_leaves': 15, #270 , 15(本番用), 7 # 2^max_depth - 1\n",
    "            #'max_depth': 3,  # -1 means no limit\n",
    "            'feature_fraction': 0.5,\n",
    "            'bagging_fraction': 0.75,\n",
    "            'bagging_freq': 2,\n",
    "            'min_child_samples': 64,  # Minimum number of data need in a child(min_data_in_leaf)\n",
    "            'max_bin': 63,  # Number of bucketed bin for feature values\n",
    "            'subsample': 0.7,  # Subsample ratio of the training instance.\n",
    "            'subsample_freq': 1,  # frequence of subsample, <=0 means no enable\n",
    "            'colsample_bytree': 0.9,  # Subsample ratio of columns when constructing each tree.\n",
    "            'min_child_weight': 0,  # Minimum sum of instance weight(hessian) needed in a child(leaf)\n",
    "            'scale_pos_weight': 200, # because training data is extremely unbalanced \n",
    "            'lambda_l1': 10 ** (-1),  # L1 regularization term on weights; 0  lambda_l1, reg_alpha\n",
    "            'lambda_l2': 10 ** (-1)  # L2 regularization term on weights: 0 #-6  reg_lambda\n",
    "        }\n",
    "        (bst, best_iteration, oof_X_train_kf) = lgb_modelfit(params, \n",
    "                                                             train_df_kf, \n",
    "                                                             val_df, \n",
    "                                                             predictors, \n",
    "                                                             y_train_kf,\n",
    "                                                             y_eval_kf,\n",
    "                                                             objective='regression', \n",
    "                                                             metrics=['rmse'],\n",
    "                                                             early_stopping_rounds=30, \n",
    "                                                             verbose_eval=True, \n",
    "                                                             num_boost_round=3000, \n",
    "                                                             categorical_features=categoricals)\n",
    "        # concat oof_train\n",
    "        if fold_idx == 0:\n",
    "            oof_X_train = oof_X_train_kf\n",
    "            oof_y_train = y_eval_kf\n",
    "        else:\n",
    "            oof_X_train = np.concatenate([oof_X_train, oof_X_train_kf], axis=0)\n",
    "            oof_y_train = np.concatenate([y_eval_kf, y_eval_kf], axis=0)\n",
    "        #print('Save delta of oof_X_train_kf and label data')\n",
    "            \n",
    "        print('[{}]: model training time'.format(time.time() - start_time))\n",
    "        print('Plot feature importances...')\n",
    "        f, ax = plt.subplots(figsize=[14,40])\n",
    "        lgb.plot_importance(bst, max_num_features=200, ax=ax)\n",
    "        plt.title(file_path + \"LGBM Feature Importance {:d}f_seed{:d}\".format(fold_idx, seed))\n",
    "        plt.savefig(file_path + 'ftr_imp_{:d}f_seed{:d}.png'.format(fold_idx, seed))\n",
    "        plt.show()\n",
    "\n",
    "        print(\"Predicting...\")\n",
    "        if fold_idx == 0:\n",
    "            sum_output = bst.predict(test_df[predictors],num_iteration=best_iteration)\n",
    "        else:\n",
    "            sum_output += bst.predict(test_df[predictors],num_iteration=best_iteration)\n",
    "    \n",
    "    \n",
    "    print('Save out-of-fold X, y train array')\n",
    "    np.save(file_path + 'LGBM_8th_{:d}f_seed{:d}.npy'.format(fold_num, seed), oof_X_train)\n",
    "    np.save(file_path + 'LGBM_8th_{:d}f_seed{:d}.npy'.format(fold_num, seed), oof_y_train)\n",
    "    # fold eval y_labelは他の弱学習器と同じなので保存しない\n",
    "    \n",
    "    del train_df, train_df_kf\n",
    "    del val_df\n",
    "    gc.collect()\n",
    "    \n",
    "    if not debug:\n",
    "        print(\"writing...\")\n",
    "        outputs = sum_output / fold_num\n",
    "        test_df[\"deal_probability\"] = outputs\n",
    "        sub_df = pd.merge(sub_df[[\"item_id\"]], test_df[[\"item_id\", \"deal_probability\"]], how='left')\n",
    "        # [0, 1]からはみ出した値を丸める\n",
    "        sub_df[\"deal_probability\"] = sub_df[\"deal_probability\"].apply(lambda x: 0. if x < 0 else x)\n",
    "        sub_df[\"deal_probability\"] = sub_df[\"deal_probability\"].apply(lambda x: 1. if x > 1 else x)\n",
    "        sub_df[[\"item_id\", \"deal_probability\"]].to_csv(file_path + 'LGBM_8th_{:d}f_seed{:d}.csv'.format(fold_num, seed),index=False)\n",
    "    print(\"done...\")"
   ]
  },
  {
   "cell_type": "code",
   "execution_count": null,
   "metadata": {},
   "outputs": [],
   "source": [
    "list(train_df.columns)"
   ]
  },
  {
   "cell_type": "code",
   "execution_count": null,
   "metadata": {},
   "outputs": [],
   "source": [
    "# 注：day_diffは罠なので，含めないようにする．その他の変数は可視化して罠かどうか確認すること\n",
    "# Upadate: 2018-06-19 price -> price_fn (fillna:AVG(price)), image_top_1 -> image_top_1 (fillna:-999)\n",
    "\n",
    "predictors = ['user_id',\n",
    "             'region',\n",
    "             'city',\n",
    "             'parent_category_name',\n",
    "             'category_name',\n",
    "             'param_1',\n",
    "             'param_2',\n",
    "             'param_3',\n",
    "             'user_type',\n",
    "             'price',\n",
    "             'image_top_1',\n",
    "             'oof',\n",
    "             #'ridge_oof',\n",
    "             'unique_rate',\n",
    "             'week',\n",
    "             'dayofweek',\n",
    "             'day',\n",
    "             'population',\n",
    "             #'unemployment_rate', \n",
    "             #'GDP_PC_PPP', \n",
    "             #'HDI',\n",
    "             'all_categ_minmax_diff',\n",
    "             'category_name_unique',\n",
    "             'all_category_count',\n",
    "             'city_unique',\n",
    "             'region_city_count',\n",
    "             'region_city_all_category_count',\n",
    "             'all_categ_minmax_diff_image_top_1_count',\n",
    "             'category_name_all_categ_minmax_diff_count',\n",
    "             'category_name_count',\n",
    "             'category_name_image_top_1_count',\n",
    "             'category_name_param_2_count',\n",
    "             'category_name_param_3_count',\n",
    "             'category_name_price_count',\n",
    "             'category_name_user_type_count',\n",
    "             'city_all_categ_minmax_diff_count_count',\n",
    "             'city_category_name_count',\n",
    "             'city_count',\n",
    "             'city_param_1_count',\n",
    "             'city_param_3_count',\n",
    "             'city_parent_category_name_count',\n",
    "             'city_price_count',\n",
    "             'city_user_type_count',\n",
    "             'image_top_1_count',\n",
    "             'param_1_all_categ_minmax_diff_count',\n",
    "             'param_1_count',\n",
    "             'param_1_image_top_1_count',\n",
    "             'param_1_param_2_count',\n",
    "             'param_1_param_3_count',\n",
    "             'param_1_price_count',\n",
    "             'param_1_user_type_count',\n",
    "             'param_2_count',\n",
    "             'param_2_image_top_1_count',\n",
    "             'param_2_param_3_count',\n",
    "             'param_2_price_count',\n",
    "             'param_2_user_type_count',\n",
    "             'param_3_all_categ_minmax_diff_count',\n",
    "             'param_3_count',\n",
    "             'param_3_image_top_1_count',\n",
    "             'param_3_price_count',\n",
    "             'param_3_user_type_count',\n",
    "             'parent_category_name_all_categ_minmax_diff_count',\n",
    "             'parent_category_name_child_category_name_count',\n",
    "             'parent_category_name_count',\n",
    "             'parent_category_name_image_top_1_count',\n",
    "             'parent_category_name_param_1_count',\n",
    "             'parent_category_name_param_2_count',\n",
    "             'parent_category_name_param_3_count',\n",
    "             'parent_category_name_price_count',\n",
    "             'parent_category_name_user_type_count',\n",
    "             'parent_child_category_name_unique',\n",
    "             'parent_child_param_1_2_3_count',\n",
    "             'price_all_categ_minmax_diff_count',\n",
    "             'price_count',\n",
    "             'price_image_top_1_count',\n",
    "             'region_all_categ_minmax_difff_count',\n",
    "             'region_child_category_name_count',\n",
    "             'region_city_unique',\n",
    "             'region_count',\n",
    "             'region_image_top_1_count',\n",
    "             'region_param_1_count',\n",
    "             'region_param_2_count',\n",
    "             'region_param_3_count',\n",
    "             'region_parent_category_name_count',\n",
    "             'region_price_count',\n",
    "             'region_user_type_count',\n",
    "             'user_id_all_categ_minmax_diff_count',\n",
    "             'user_id_child_category_name_count',\n",
    "             'user_id_city_count',\n",
    "             'user_id_count',\n",
    "             'user_id_image_top_1_count',\n",
    "             'user_id_param_1_count',\n",
    "             'user_id_param_2_count',\n",
    "             'user_id_param_3_count',\n",
    "             'user_id_parent_category_name_count',\n",
    "             'user_id_region_count',\n",
    "             'user_id_user_type_count',\n",
    "             'user_type_all_categ_minmax_diff_count',\n",
    "             'user_type_count',\n",
    "             'user_type_image_top_1_count',\n",
    "             'user_type_price_count',\n",
    "             'category_name_minmax_diff',\n",
    "             'city_minmax_diff',\n",
    "             'image_top_1_minmax_diff',\n",
    "             'param_1_minmax_diff',\n",
    "             'param_2_minmax_diff',\n",
    "             'param_3_minmax_diff',\n",
    "             'parent_category_name_minmax_diff',\n",
    "             'price_minmax_diff',\n",
    "             'region_minmax_diff',\n",
    "             'user_id_minmax_diff',\n",
    "             'user_type_minmax_diff',\n",
    "             'category_name_price_image_top_1_count',\n",
    "             'city_category_name_image_top_1_count',\n",
    "             'city_category_name_price_count',\n",
    "             'city_param_1_category_name_count',\n",
    "             'city_param_1_image_top_1_count',\n",
    "             'city_param_1_param_2_count',\n",
    "             'city_param_1_param_3_count',\n",
    "             'city_param_1_price_count',\n",
    "             'city_param_2_category_name_count',\n",
    "             'city_param_2_image_top_1_count',\n",
    "             'city_param_2_param_3_count',\n",
    "             'city_param_2_price_count',\n",
    "             'city_param_3_category_name_count',\n",
    "             'city_param_3_image_top_1_count',\n",
    "             'city_param_3_price_count',\n",
    "             'city_price_image_top_1_count',\n",
    "             'param_1_category_name_image_top_1_count',\n",
    "             'param_1_category_name_price_count',\n",
    "             'param_1_param_2_category_name_count',\n",
    "             'param_1_param_2_image_top_1_count',\n",
    "             'param_1_param_2_param_3_count',\n",
    "             'param_1_param_2_price_count',\n",
    "             'param_1_param_3_category_name_count',\n",
    "             'param_1_param_3_image_top_1_count',\n",
    "             'param_1_param_3_price_count',\n",
    "             'param_2_category_name_image_top_1_count',\n",
    "             'param_2_category_name_price_count',\n",
    "             'param_2_param_3_category_name_count',\n",
    "             'param_2_param_3_image_top_1_count',\n",
    "             'param_2_param_3_price_count',\n",
    "             'param_2_price_image_top_1_count',\n",
    "             'param_3_category_name_image_top_1_count',\n",
    "             'param_3_category_name_price_count',\n",
    "             'param_3_price_image_top_1_count',\n",
    "             'user_id_category_name_image_top_1_count',\n",
    "             'user_id_city_category_name_count',\n",
    "             'user_id_city_image_top_1_count',\n",
    "             'user_id_city_param_1_count',\n",
    "             'user_id_city_param_2_count',\n",
    "             'user_id_city_param_3_count',\n",
    "             'user_id_city_price_count',\n",
    "             'user_id_param_1_category_name_count',\n",
    "             'user_id_param_1_image_top_1_count',\n",
    "             'user_id_param_1_param_2_count',\n",
    "             'user_id_param_1_param_3_count',\n",
    "             'user_id_param_1_price_count',\n",
    "             'user_id_param_2_category_name_count',\n",
    "             'user_id_param_2_image_top_1_count',\n",
    "             'user_id_param_2_param_3_count',\n",
    "             'user_id_param_2_price_count',\n",
    "             'user_id_param_3_category_name_count',\n",
    "             'user_id_param_3_image_top_1_count',\n",
    "             'user_id_param_3_price_count',\n",
    "             'user_id_price_image_top_1_count',\n",
    "             'category_name_price_image_top_1_uq',\n",
    "             'city_category_name_image_top_1_uq',\n",
    "             'city_category_name_price_uq',\n",
    "             'city_param_1_category_name_uq',\n",
    "             'city_param_1_image_top_1_uq',\n",
    "             'city_param_1_param_2_uq',\n",
    "             'city_param_1_param_3_uq',\n",
    "             'city_param_1_price_uq',\n",
    "             'city_param_2_category_name_uq',\n",
    "             'city_param_2_image_top_1_uq',\n",
    "             'city_param_2_param_3_uq',\n",
    "             'city_param_2_price_uq',\n",
    "             'city_param_3_category_name_uq',\n",
    "             'city_param_3_image_top_1_uq',\n",
    "             'city_price_image_top_1_uq',\n",
    "             'param_1_category_name_image_top_1_uq',\n",
    "             'param_1_category_name_price_uq',\n",
    "             'param_1_param_2_category_name_uq',\n",
    "             'param_1_param_2_image_top_1_uq',\n",
    "             'param_1_param_2_param_3_uq',\n",
    "             'param_1_param_2_price_uq',\n",
    "             'param_1_param_3_category_name_uq',\n",
    "             'param_1_param_3_image_top_1_uq',\n",
    "             'param_1_param_3_price_uq',\n",
    "             'param_1_price_image_top_1_uq',\n",
    "             'param_2_category_name_image_top_1_uq',\n",
    "             'param_2_category_name_price_uq',\n",
    "             'param_2_param_3_image_top_1_uq',\n",
    "             'param_2_param_3_price_uq',\n",
    "             'param_2_price_image_top_1_uq',\n",
    "             'param_3_category_name_image_top_1_uq',\n",
    "             'param_3_category_name_price_uq',\n",
    "             'param_3_price_image_top_1_uq',\n",
    "             'user_id_category_name_image_top_1_uq',\n",
    "             'user_id_category_name_price_uq',\n",
    "             'user_id_city_category_name_uq',\n",
    "             'user_id_city_image_top_1_uq',\n",
    "             'user_id_city_param_1_uq',\n",
    "             'user_id_city_param_2_uq',\n",
    "             'user_id_city_param_3_uq',\n",
    "             'user_id_city_price_uq',\n",
    "             'user_id_param_1_category_name_uq',\n",
    "             'user_id_param_1_image_top_1_uq',\n",
    "             'user_id_param_1_param_2_uq',\n",
    "             'user_id_param_1_param_3_uq',\n",
    "             'user_id_param_1_price_uq',\n",
    "             'user_id_param_2_category_name_uq',\n",
    "             'user_id_param_2_image_top_1_uq',\n",
    "             'user_id_param_2_param_3_uq',\n",
    "             'user_id_param_2_price_uq',\n",
    "             'user_id_param_3_category_name_uq',\n",
    "             'user_id_param_3_image_top_1_uq',\n",
    "             'user_id_param_3_price_uq',\n",
    "             'user_id_price_image_top_1_uq']\n",
    "# Add numelical features from texts and text features \n",
    "# numel_text_は特徴の変化が200列台後半に出るので，後半のみpredictorsに入れれば十分か検証\n",
    "predictors = predictors + list(numel_text.columns)[231:] + list(text_ftrs.columns)[1:] + list(stddev_pr_imt1.columns)[1:] #+ list(stddev_time.columns)[1:]\n",
    "\n",
    "            \n",
    "categoricals = ['user_id', 'region', 'city', 'parent_category_name', 'category_name', 'param_1', 'param_2', 'param_3', 'user_type', 'image_top_1']\n",
    "  \n",
    "sub_df = pd.read_csv(\"./sample_submission.csv\")\n",
    "userows = 1000000\n",
    "DO(userows, train_df, test_df, sub_df, predictors, categoricals, debug=0, seed=7, fold_num=4, file_path=\"./lgbm_8th_upper_debug_4f_seed7/\")"
   ]
  },
  {
   "cell_type": "markdown",
   "metadata": {},
   "source": [
    "## Check submission data"
   ]
  },
  {
   "cell_type": "code",
   "execution_count": null,
   "metadata": {},
   "outputs": [],
   "source": [
    "lgbm_sub = pd.read_csv(\"./lgbm_8th_drop_upper4-29_debug_4f_seed7/LGBM_8th_4f_seed7.csv\")\n",
    "lgbm_sub "
   ]
  },
  {
   "cell_type": "markdown",
   "metadata": {},
   "source": [
    "## Copy the directory which contains output files to GCS"
   ]
  },
  {
   "cell_type": "code",
   "execution_count": null,
   "metadata": {},
   "outputs": [],
   "source": [
    "! gsutil cp -r ./lgbm_8th_drop_upper4-29_debug_4f_seed7 gs://kaggle893/avito/"
   ]
  }
 ],
 "metadata": {
  "kernelspec": {
   "display_name": "Python 3",
   "language": "python",
   "name": "python3"
  },
  "language_info": {
   "codemirror_mode": {
    "name": "ipython",
    "version": 3
   },
   "file_extension": ".py",
   "mimetype": "text/x-python",
   "name": "python",
   "nbconvert_exporter": "python",
   "pygments_lexer": "ipython3",
   "version": "3.6.5"
  }
 },
 "nbformat": 4,
 "nbformat_minor": 2
}
